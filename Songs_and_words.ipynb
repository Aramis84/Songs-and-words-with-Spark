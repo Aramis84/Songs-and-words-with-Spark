{
 "cells": [
  {
   "cell_type": "code",
   "execution_count": 1,
   "metadata": {
    "collapsed": true
   },
   "outputs": [],
   "source": [
    "# There are essentially two methods to use Spark with jupyter notebook.\n",
    "# 1. USe findspark to load pyspark on a regular jupyter notebook or any other IDE\n",
    "# 2. Configure pyspark to always use jupyter notebook\n",
    "# We will use the first method here. findspark needs to be installed first (pip install findspark)\n",
    "\n",
    "import findspark\n",
    "findspark.init()\n",
    "\n",
    "# This is not running on any cluster\n",
    "from pyspark import SparkContext, SparkConf\n",
    "conf = SparkConf().setMaster('local').setAppName('Songs')\n",
    "sc = SparkContext(conf=conf)"
   ]
  },
  {
   "cell_type": "code",
   "execution_count": 4,
   "metadata": {},
   "outputs": [
    {
     "name": "stdout",
     "output_type": "stream",
     "text": [
      "[('Primal Fear', ['New religion', 'Running in the dust', 'World on fire', 'Face the emptiness']), ('Excalion', ['Between the lines', 'Arriving as the dark', 'Wingman', 'Losing time', 'Enter a life', 'I failed you', 'Streams of madness']), ('Kamelot', ['Center of the Universe', 'March of Mephisto', 'This pain']), ('Within Temptation', ['Our solemn hour', 'Let us burn', 'Silver moonlight', \"It's the fear\", 'And we run', 'Faster', 'Hand of sorrow', 'Memories', 'Iron', 'What have you done', 'Memories', 'Sinead', 'Shot in the dark', 'Paradise', 'An we run', \"A demon's fate\", 'The truth beneath the rose']), ('Powerwolf', ['Shot in the dark', 'Army of the night', 'We are the wild', 'Lust for blood', 'We drink your blood', 'Armata strigoi', 'Amen and attack', 'Sanctus dominus', 'Sanctified with dynamite', 'Higher than heaven', 'Night of the werewolves', \"Vampires don't die\", \"Dead boys don't cry\"]), ('Nightwish', ['Dark chest of wonders', 'Stargazers', 'Nemo', 'Everdream', 'Ghost love score', 'She is my sin', 'Storytime', 'Amaranth', 'Bye bye beautiful', 'Shudder before the beautiful', 'Elan', 'Edema Ruh', 'I want my tears back', 'Last ride of the day', 'Wish I had an angel', 'End of all hope', 'Bless the child', 'The riddler', 'Moondance', 'Cadence of her last breath', 'Come cover me', 'Dead to the world', 'End of all hope', 'Over the hills and far away', 'Sleeping sun']), ('Iron Maiden', ['The ides of march', 'Wrathchild', 'Killers', 'Children of the damned', 'Run to the hills', 'Hallowed by thy name', 'Die with your boots on', 'The trooper', 'Aces high', '2 minutes to midnight', 'Waster years', 'The clairvoyant', 'Only the good die young', 'Afraid to shoot strangers', 'Fear of the dark', 'Brave new world', 'The nomad', 'Rainmaker', 'No more lies', 'Journeyman']), ('Wizard', ['Two faces of balthasar', 'Call to the dragon', 'Midgards guardian', \"Thor's hammer\"]), ('Black Majesty', ['Silent company', 'Visionary', 'Firestorm', 'Never Surrender']), ('Gaia Epicus', ['Masters of the sea', 'Firestorm', 'The wizards return', 'Salvation is here', 'Keepers of time']), ('Lyriel', ['Wenn die engel fallen', 'Leverage', 'Paranoid circus', 'Skin and bones', 'Enchanted moonlight', 'Autumntales', 'Surrender in dance', 'Regen', 'Fairyland', 'The crown of the twilight', 'Dust to dust', 'Like a feather in the wind']), ('Xandria', ['Euphoria', \"A prophecy of world's to fall\", 'Forevermore', 'Now and forever', 'Blood on my hands', 'Come with me', 'Stardust', 'Little red relish', 'Voyage of the fallen', 'Nightfall', 'Ship of doom', 'Death to the holy', 'Forsaken love']), ('Eisbrecher', ['Leider', 'Vergissmeinnicht', 'Die holle muss warten', 'Rot wie die liebe', 'Die engel', 'Himmel, Arsch und zwirn', 'Volle kraft vorhaus', '1000 narben', 'Wilkommen im nichts', 'Angst', 'Herx steht still', 'Ohne dich', 'Entlassen']), ('Sabaton', ['To hell and back', 'Resist and bite', 'Ghost division', 'The lost battalion', 'Shiroyama', 'The price of a mile', 'Primo victoria', 'Metal machine', 'Cliffs of gallipoli', 'Panzer battalion', 'Aces in exile', 'No bullets fly', 'Masters of the world', 'Rise of evil', 'Into the fire', 'Gott mit uns', 'Soldier of 3 armies', '7734', 'Carolus Rex', 'Metal crue', 'Saboteurs', 'The last stand', 'Wolfpack', 'Winged hussars', \"Dead soldier's waltz\", 'Attero dominatus', 'Angels calling', 'Coat of arms', 'Counterstike', 'Hill 3234', 'Inmate 4859', 'Killing ground', \"Rorke's drift\", 'Sparta', 'The art of war', 'Unbreakable', 'Twilight of the thunder god', 'Smoking snakes']), ('Gamma Ray', ['Send me a sign', 'Gardens of the sinner', 'Heavy metal universe', 'Follow me', 'Heaven or hell', 'New world order', 'Beyond the black hole', 'Valley of the kings', 'Lost in the future', 'Land of the free', 'Heaven can wait', 'Into the storm', 'Empress', 'Real world', 'One with the world', 'From the ashes', 'Time to live', 'Damn the machine', 'Somewhere out in space', 'Rise', 'Last before the storm', 'Hear me calling']), ('Altaria', ['Unchain the rain', 'Frozen hearts', 'Falling again', 'Enemy', 'The will to live', 'Divine', 'Crucifix', 'Outlaw blood', 'Ravenwing', 'The dying flame']), ('Stahlmann', ['Hass mich', 'Plasma', 'Teufel', 'Suchtig', 'Wilkommen', 'Leuchtfeuer', 'Paradies', 'Die klinge']), ('Unheilig', ['Puppenspieler', 'Lampenfieber', 'Geboren um zu leben', 'Spiegelbild', 'Mona Lisa', 'Feuerengel', 'Glaub an mich', 'Sei mein licht', 'Mein stern', 'An deiner seite', 'Hexenjagd', 'Maschine', 'Zinnsoldat', 'Kalt']), ('Krypteria', ['Victoria', 'Victoriam Speramus', 'Live to fight another day', 'Sweet revenge', 'The promise', 'The night all angels cry', 'My fatal kiss', 'Shoot me', 'Get the hell out of my way', 'All systems go', 'Dying to love']), ('Edenbridge', ['Shine', 'Sunrise in Eden', 'Alight a new tomorrow', 'Come undone', 'Higher', 'Empire of the sun ', 'The moment is now'])]\n"
     ]
    }
   ],
   "source": [
    "# Reading the data and some initial parsing to generate a dictionary with the band name as the key and the list of songs as the\n",
    "# value\n",
    "\n",
    "file =  open('List.txt', 'r')\n",
    "list_of_names = file.readlines()\n",
    "bands = {}\n",
    "\n",
    "counter = 0\n",
    "while counter < len(list_of_names[:-1]):\n",
    "    if '---' in list_of_names[counter+1]:\n",
    "        key = list_of_names[counter].split('\\n')[0]\n",
    "        songs = []\n",
    "        bands[key] = songs\n",
    "        counter = counter + 2\n",
    "        \n",
    "    elif (list_of_names[counter] != '\\n') and ('---' not in list_of_names[counter+1]):\n",
    "        songs.append(list_of_names[counter].split('\\n')[0])\n",
    "        bands[key] = songs\n",
    "        counter = counter + 1\n",
    "    else:\n",
    "        counter = counter+1\n",
    "        \n",
    "file.close()        \n",
    "\n",
    "# Creating a pair rdd from the dictionary\n",
    "rdd_from_coll = sc.parallelize([(k,v) for k,v in bands.iteritems()])   \n",
    "\n",
    "# each pair is of the form (Bandname, [list of songs])\n",
    "print rdd_from_coll.collect()   "
   ]
  },
  {
   "cell_type": "code",
   "execution_count": 10,
   "metadata": {},
   "outputs": [
    {
     "name": "stdout",
     "output_type": "stream",
     "text": [
      "[(8, 'die'), (7, 'world'), (5, 'dark'), (4, 'new'), (4, 'last'), (4, 'blood'), (3, 'time'), (3, 'run'), (3, 'night'), (3, 'metal')]\n"
     ]
    }
   ],
   "source": [
    "# A simple wordcount exercise on the song list to find the most common words in the song titles\n",
    "# the first flatMap takes the values from the key value pairs and generates a RDD with the song names, which are then converted\n",
    "# to lower case which are then separated into words by the last flatMap\n",
    "\n",
    "rdd_from_coll_1 = rdd_from_coll.flatMap(lambda line: line[1]).map(lambda x : x.lower()).\\\n",
    "flatMap(lambda line : line.split(' '))\n",
    "\n",
    "# This is really naive and in the next versions I hope to use something better (may be TF-IDF) to leave out commonly occuring \n",
    "# words. Basically this is a list of words which should not be counted \n",
    "ignore = ['the', 'and', 'a', 'an', 'of', 'to',  'for', 'with', 'in', 'on', 'at', 'we', 'me', 'i',\\\n",
    "          'us', 'my', '', 'now', 'this', 'that', 'as', 'all', \"don't\", 'are','is', 'on']\n",
    "\n",
    "# Filtering out the words that match with something in the ignore  and then mapping each word to a key value pair with value 1\n",
    "words = rdd_from_coll_1.filter(lambda x : x not in ignore).map(lambda x: (x,1))\n",
    "\n",
    "# standard wordcount statements...this can be combined together with countByValue() action on the rdd\n",
    "words_count = words.reduceByKey(lambda x,y : x+y).map(lambda (x,y) : (y,x)).sortByKey(ascending = False)\n",
    "print words_count.top(10)"
   ]
  },
  {
   "cell_type": "code",
   "execution_count": 6,
   "metadata": {
    "collapsed": true
   },
   "outputs": [],
   "source": [
    "# Top words include 'die', 'dark', 'blood' .....Seems like I have to try out some lighter and happier songs :)"
   ]
  },
  {
   "cell_type": "code",
   "execution_count": 8,
   "metadata": {},
   "outputs": [
    {
     "name": "stdout",
     "output_type": "stream",
     "text": [
      "[(38, 'Sabaton'), (25, 'Nightwish'), (22, 'Gamma Ray'), (20, 'Iron Maiden'), (17, 'Within Temptation'), (14, 'Unheilig'), (13, 'Powerwolf'), (13, 'Xandria'), (13, 'Eisbrecher'), (12, 'Lyriel'), (11, 'Krypteria'), (10, 'Altaria'), (8, 'Stahlmann'), (7, 'Excalion'), (7, 'Edenbridge'), (5, 'Gaia Epicus'), (4, 'Primal Fear'), (4, 'Wizard'), (4, 'Black Majesty'), (3, 'Kamelot')]\n"
     ]
    }
   ],
   "source": [
    "# Lets see which bands had the most songs in the list\n",
    "fav_bands = rdd_from_coll.mapValues(lambda x : len(x)).map(lambda (x,y) : (y,x)).sortByKey(ascending = False)\n",
    "print fav_bands.collect()"
   ]
  },
  {
   "cell_type": "code",
   "execution_count": null,
   "metadata": {
    "collapsed": true
   },
   "outputs": [],
   "source": []
  }
 ],
 "metadata": {
  "kernelspec": {
   "display_name": "Python 2",
   "language": "python",
   "name": "python2"
  },
  "language_info": {
   "codemirror_mode": {
    "name": "ipython",
    "version": 2
   },
   "file_extension": ".py",
   "mimetype": "text/x-python",
   "name": "python",
   "nbconvert_exporter": "python",
   "pygments_lexer": "ipython2",
   "version": "2.7.13"
  }
 },
 "nbformat": 4,
 "nbformat_minor": 2
}
